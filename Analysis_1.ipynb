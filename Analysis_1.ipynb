{
 "cells": [
  {
   "cell_type": "code",
   "execution_count": 150,
   "metadata": {},
   "outputs": [
    {
     "data": {
      "text/plain": [
       "['James', 'John', 'Robert']"
      ]
     },
     "execution_count": 150,
     "metadata": {},
     "output_type": "execute_result"
    }
   ],
   "source": [
    "import pandas as pd\n",
    "\n",
    "def get_top3 (*years): \n",
    "    appended_data = pd.DataFrame([])\n",
    "    for year in years: \n",
    "        path = r\"C:\\Users\\natal\\Anacondas\\name\\yob{}.txt\".format(year) \n",
    "        data = pd.read_csv(path, names=('Name', 'Gender', 'Q')) \n",
    "        appended_data = pd.concat([appended_data, data]) \n",
    "    appended_data = appended_data.groupby('Name', as_index=False).sum()\n",
    "    top3 = appended_data.sort_values(by='Q', ascending=False).head(3)\n",
    "    return top3['Name']\n",
    "\n",
    "result = get_top3(1900, 1950, 2000)\n",
    "result.to_list()"
   ]
  },
  {
   "cell_type": "code",
   "execution_count": 194,
   "metadata": {},
   "outputs": [
    {
     "data": {
      "text/plain": [
       "{'F': [299798, 1713065, 1815295], 'M': [150480, 1790437, 1963202]}"
      ]
     },
     "execution_count": 194,
     "metadata": {},
     "output_type": "execute_result"
    }
   ],
   "source": [
    "import pandas as pd\n",
    "\n",
    "def count_dynamics(*years): \n",
    "    res = {\n",
    "        \"F\": [],\n",
    "        \"M\": []\n",
    "    }\n",
    "    for year in years: \n",
    "        path = r\"C:\\Users\\natal\\Anacondas\\name\\yob{}.txt\".format(year) \n",
    "        data = pd.read_csv(path, names=('Name', 'Gender', 'Q'))\n",
    "        data = data.groupby('Gender', as_index=False).sum()\n",
    "        res['F'].append(int(data[data['Gender']=='F']['Q']))\n",
    "        res['M'].append(int(data[data['Gender']=='M']['Q']))\n",
    "    return res\n",
    "\n",
    "result = count_dynamics(1900, 1950, 2000)\n",
    "result\n"
   ]
  },
  {
   "cell_type": "code",
   "execution_count": null,
   "metadata": {},
   "outputs": [],
   "source": []
  }
 ],
 "metadata": {
  "kernelspec": {
   "display_name": "Python 3",
   "language": "python",
   "name": "python3"
  },
  "language_info": {
   "codemirror_mode": {
    "name": "ipython",
    "version": 3
   },
   "file_extension": ".py",
   "mimetype": "text/x-python",
   "name": "python",
   "nbconvert_exporter": "python",
   "pygments_lexer": "ipython3",
   "version": "3.7.6"
  }
 },
 "nbformat": 4,
 "nbformat_minor": 4
}
